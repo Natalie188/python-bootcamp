{
 "cells": [
  {
   "cell_type": "code",
   "execution_count": 2,
   "id": "756aa237",
   "metadata": {},
   "outputs": [
    {
     "name": "stdout",
     "output_type": "stream",
     "text": [
      "hello world\n"
     ]
    }
   ],
   "source": [
    "print('hello world')"
   ]
  },
  {
   "cell_type": "code",
   "execution_count": 1,
   "id": "7ffabde6",
   "metadata": {},
   "outputs": [
    {
     "name": "stdout",
     "output_type": "stream",
     "text": [
      "hello world\n"
     ]
    }
   ],
   "source": [
    "\"\"\"\n",
    "This is hello world\n",
    "\"\"\"\n",
    "\n",
    "#LOL\n",
    "\n",
    "print('hello world')"
   ]
  },
  {
   "cell_type": "code",
   "execution_count": 1,
   "id": "c29879d4",
   "metadata": {},
   "outputs": [
    {
     "name": "stdout",
     "output_type": "stream",
     "text": [
      "Hello Natalie\n",
      "Hello Natalie\n",
      "Hello Natalie\n",
      "Hello Natalie\n",
      "Hello Natalie\n"
     ]
    }
   ],
   "source": [
    "print('Hello Natalie')\n",
    "print('Hello Natalie')\n",
    "print('Hello Natalie')\n",
    "print('Hello Natalie')\n",
    "print('Hello Natalie')"
   ]
  },
  {
   "cell_type": "code",
   "execution_count": 3,
   "id": "10d75c11",
   "metadata": {},
   "outputs": [
    {
     "name": "stdout",
     "output_type": "stream",
     "text": [
      "Hello, Natalie\n",
      "Hello, Natalie\n",
      "Hello, Natalie\n",
      "Hello, Natalie\n",
      "Hello, Natalie\n"
     ]
    }
   ],
   "source": [
    "name = 'Natalie'\n",
    "\n",
    "print(f\"Hello, {name}\")\n",
    "print(f\"Hello, {name}\")\n",
    "print(f\"Hello, {name}\")\n",
    "print(f\"Hello, {name}\")\n",
    "print(f\"Hello, {name}\")\n"
   ]
  },
  {
   "cell_type": "code",
   "execution_count": 7,
   "id": "2723fe59",
   "metadata": {},
   "outputs": [
    {
     "name": "stdout",
     "output_type": "stream",
     "text": [
      "Hello, Natalie and I am 22 years old\n",
      "Hello, Natalie and I am 22 years old\n"
     ]
    }
   ],
   "source": [
    "name = \"Natalie\"\n",
    "age = 22\n",
    "\n",
    "print('Hello, ' +name+ ' and I am '+str(age)+ ' years old')\n",
    "print(f'Hello, {name} and I am {age } years old')"
   ]
  },
  {
   "cell_type": "code",
   "execution_count": 8,
   "id": "9426e862",
   "metadata": {},
   "outputs": [
    {
     "name": "stdout",
     "output_type": "stream",
     "text": [
      "<class 'str'>\n"
     ]
    }
   ],
   "source": [
    "age = \"22\"\n",
    "print(type(age))"
   ]
  },
  {
   "cell_type": "code",
   "execution_count": 9,
   "id": "796dd094",
   "metadata": {},
   "outputs": [
    {
     "name": "stdout",
     "output_type": "stream",
     "text": [
      "20000.0\n"
     ]
    }
   ],
   "source": [
    "text = '$20k'\n",
    "\n",
    "print(float(text.replace('k','000').replace('$','')))"
   ]
  },
  {
   "cell_type": "code",
   "execution_count": 10,
   "id": "43bcfdc6",
   "metadata": {},
   "outputs": [
    {
     "name": "stdout",
     "output_type": "stream",
     "text": [
      "1020\n"
     ]
    }
   ],
   "source": [
    "num_1 = '10'\n",
    "num_2 = '20'\n",
    "\n",
    "print(num_1 + num_2)"
   ]
  },
  {
   "cell_type": "code",
   "execution_count": 14,
   "id": "ddb4f9df",
   "metadata": {},
   "outputs": [
    {
     "name": "stdout",
     "output_type": "stream",
     "text": [
      "<class 'list'>\n",
      "GD\n"
     ]
    }
   ],
   "source": [
    "students = [\"Natalie\", \"GD\", \"Chan\"]\n",
    "print(type(students))\n",
    "\n",
    "print(students[1])"
   ]
  },
  {
   "cell_type": "code",
   "execution_count": 13,
   "id": "196ace42",
   "metadata": {},
   "outputs": [
    {
     "name": "stdout",
     "output_type": "stream",
     "text": [
      "['Jennie', 'Natalie', 'GD', 'Chan']\n"
     ]
    }
   ],
   "source": [
    "students = ['Natalie', 'GD', 'Chan']\n",
    "students.insert(0,\"Jennie\")\n",
    "\n",
    "print(students)"
   ]
  },
  {
   "cell_type": "code",
   "execution_count": null,
   "id": "73cb250c",
   "metadata": {},
   "outputs": [],
   "source": []
  }
 ],
 "metadata": {
  "kernelspec": {
   "display_name": "Python 3",
   "language": "python",
   "name": "python3"
  },
  "language_info": {
   "codemirror_mode": {
    "name": "ipython",
    "version": 3
   },
   "file_extension": ".py",
   "mimetype": "text/x-python",
   "name": "python",
   "nbconvert_exporter": "python",
   "pygments_lexer": "ipython3",
   "version": "3.12.1"
  }
 },
 "nbformat": 4,
 "nbformat_minor": 5
}
