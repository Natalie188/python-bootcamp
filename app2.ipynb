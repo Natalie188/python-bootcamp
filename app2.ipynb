{
 "cells": [
  {
   "cell_type": "code",
   "execution_count": null,
   "id": "fdc2e920",
   "metadata": {},
   "outputs": [],
   "source": [
    "while True:\n",
    "    name = input('Whats your name?')\n",
    "\n",
    "    if name == \"Natalie\":\n",
    "        print(\"You are not allowed to enter\") \n",
    "    else:\n",
    "        print(\"You are allowed to enter\")"
   ]
  },
  {
   "cell_type": "code",
   "execution_count": null,
   "id": "170b2b4b",
   "metadata": {},
   "outputs": [],
   "source": []
  }
 ],
 "metadata": {
  "kernelspec": {
   "display_name": "Python 3",
   "language": "python",
   "name": "python3"
  },
  "language_info": {
   "codemirror_mode": {
    "name": "ipython",
    "version": 3
   },
   "file_extension": ".py",
   "mimetype": "text/x-python",
   "name": "python",
   "nbconvert_exporter": "python",
   "pygments_lexer": "ipython3",
   "version": "3.12.1"
  }
 },
 "nbformat": 4,
 "nbformat_minor": 5
}
